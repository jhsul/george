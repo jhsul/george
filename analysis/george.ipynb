{
 "cells": [
  {
   "cell_type": "markdown",
   "metadata": {},
   "source": [
    "# Student Course Report Analysis\n",
    "_THIS IS NOT USED, I ENDED UP DOING EVERYTHING IN JS ON THE DASHBOARD PAGE_"
   ]
  },
  {
   "cell_type": "code",
   "execution_count": 1,
   "metadata": {},
   "outputs": [],
   "source": [
    "# Imports\n",
    "import pandas as pd\n",
    "import os\n",
    "import re\n",
    "import json\n",
    "import matplotlib.pyplot as plt\n",
    "import functools\n",
    "\n",
    "from scipy import stats\n",
    "from os.path import join, dirname\n",
    "from pymongo import MongoClient\n",
    "from pprint import pprint\n",
    "from dotenv import load_dotenv\n",
    "from IPython.display import display, JSON, HTML\n",
    "\n",
    "# Load environment variables\n",
    "load_dotenv(join(os.path.abspath(\"\"), \"../.env.local\"))\n",
    "\n",
    "pass"
   ]
  },
  {
   "cell_type": "code",
   "execution_count": 2,
   "metadata": {},
   "outputs": [],
   "source": [
    "# Connect to database\n",
    "mongo_client = MongoClient(os.environ.get(\"MONGO_URI\"))\n",
    "db = mongo_client[\"george-beta\"]\n",
    "\n",
    "# Load data\n",
    "professors = pd.DataFrame(db[\"professors\"].find({}))\n",
    "courses = pd.DataFrame(db[\"courses\"].find({}))\n",
    "sections = pd.DataFrame(db[\"sections\"].find({}))"
   ]
  },
  {
   "cell_type": "code",
   "execution_count": 3,
   "metadata": {},
   "outputs": [],
   "source": [
    "# The question text for each number\n",
    "question_texts = {\n",
    "    1: \"My overall rating of the quality of this course is\",\n",
    "    2: \"My overall rating of the instructor's teaching is\",\n",
    "    3: \"The educational value of the assigned work was\",\n",
    "    4: \"The instructor's organization of the course was\",\n",
    "    5: \"The instructor's clarity in communicating course objectives was\",\n",
    "    6: \"The instructor's skill in providing understandable explanations was\",\n",
    "    7: \"The amount I learned from the course was\",\n",
    "    8: \"The intellectual challenge presented by the course was\",\n",
    "    9: \"The instructor's personal interest in helping students learn was\",\n",
    "    10: \"The instructor stimulated my interest in the subject matter\",\n",
    "    11: \"The amount of reading, homework, and other assigned work was\",\n",
    "    12: \"The instructor was well prepared to teach class.\",\n",
    "    13: \"The instructor encouraged students to ask questions.\",\n",
    "    14: \"The instructor treated students with respect.\",\n",
    "    15: \"Instructor feedback on exams/assignments was timely and helpful.\",\n",
    "    16: \"The exams and/or evaluations were good measures of the material covered.\",\n",
    "    17: \"My grades were determined in a fair and impartial manner.\",\n",
    "    18: \"What grade do you think you will receive in this course?\",\n",
    "    19: \"On average, what were the total hours spent in each 7-day week OUTSIDE of formally scheduled class time in work related to this course (including studying, reading, writing, homework, rehearsal, etc.)?\"\n",
    "}\n",
    "\n",
    "# Categories of questions (subjective)\n",
    "question_categories = {\n",
    "    \"course_quality\": [1, 2, 3, 4, 5, 6],\n",
    "    \"course_difficulty\": [7, 8, 9, 10, 11, 19],\n",
    "    \"instructor_quality\": [12, 13, 14, 15, 16],\n",
    "    \"grades\": [17, 18]\n",
    "}"
   ]
  },
  {
   "cell_type": "code",
   "execution_count": 4,
   "metadata": {},
   "outputs": [],
   "source": [
    "# Augment the data\n",
    "\n",
    "# Assign professors to 1+ department\n",
    "\n",
    "\n",
    "# Calculate the average response of every question in a category\n",
    "def add_category(row, questions):\n",
    "    category_sum = 0\n",
    "    for question in row.report:\n",
    "        if question[\"questionNumber\"] not in questions:\n",
    "            continue\n",
    "        #print(question[\"questionNumber\"])\n",
    "        responses = question[\"responses\"]\n",
    "        weighted_responses = [x*(i+1) for i, x in enumerate(responses)]\n",
    "\n",
    "        if sum(responses) == 0:\n",
    "            return None\n",
    "        else:\n",
    "            mean_response = sum(weighted_responses) / sum(responses)\n",
    "\n",
    "        category_sum += mean_response\n",
    "        #print(responses, weighted_responses, mean_response)\n",
    "    \n",
    "    category_mean = category_sum / len(questions)\n",
    "    \n",
    "    return category_mean\n",
    "\n",
    "for category, questions in question_categories.items():\n",
    "    sections[category] = sections.apply(lambda row: add_category(row, questions), axis=1)"
   ]
  },
  {
   "cell_type": "code",
   "execution_count": 5,
   "metadata": {},
   "outputs": [],
   "source": [
    "# Filter sections\n",
    "def get_sections_by_department(sections, dept):\n",
    "    return sections[sections.apply(lambda r: re.search(f\"^{dept}\", r[\"courseId\"]) is not None, axis=1 )]\n",
    "\n",
    "def get_sections_by_professor(sections, professor_id): \n",
    "    return sections[sections[\"professorId\"] == professor_id]"
   ]
  },
  {
   "cell_type": "code",
   "execution_count": 6,
   "metadata": {},
   "outputs": [],
   "source": [
    "random_prof = \"935932\"\n",
    "#display(get_sections_by_professor(random_prof))"
   ]
  }
 ],
 "metadata": {
  "interpreter": {
   "hash": "5f0398a088b238b66bb68ff1a49683ef9fedaaf10bbaa9cf89503699278e09ce"
  },
  "kernelspec": {
   "display_name": "Python 3.9.12 ('venv': venv)",
   "language": "python",
   "name": "python3"
  },
  "language_info": {
   "codemirror_mode": {
    "name": "ipython",
    "version": 3
   },
   "file_extension": ".py",
   "mimetype": "text/x-python",
   "name": "python",
   "nbconvert_exporter": "python",
   "pygments_lexer": "ipython3",
   "version": "3.10.4"
  },
  "orig_nbformat": 4
 },
 "nbformat": 4,
 "nbformat_minor": 2
}
